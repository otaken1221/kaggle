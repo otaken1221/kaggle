{
 "cells": [
  {
   "cell_type": "code",
   "execution_count": 1,
   "id": "7009dbcd",
   "metadata": {
    "_cell_guid": "b1076dfc-b9ad-4769-8c92-a6c4dae69d19",
    "_uuid": "8f2839f25d086af736a60e9eeb907d3b93b6e0e5",
    "execution": {
     "iopub.execute_input": "2023-06-14T16:05:05.942810Z",
     "iopub.status.busy": "2023-06-14T16:05:05.942517Z",
     "iopub.status.idle": "2023-06-14T16:05:07.096025Z",
     "shell.execute_reply": "2023-06-14T16:05:07.095351Z"
    },
    "papermill": {
     "duration": 1.160754,
     "end_time": "2023-06-14T16:05:07.098214",
     "exception": false,
     "start_time": "2023-06-14T16:05:05.937460",
     "status": "completed"
    },
    "tags": []
   },
   "outputs": [],
   "source": [
    "import numpy as np\n",
    "import pandas as pd\n",
    "from sklearn.linear_model import LinearRegression"
   ]
  },
  {
   "cell_type": "code",
   "execution_count": 2,
   "id": "f7605b51",
   "metadata": {
    "execution": {
     "iopub.execute_input": "2023-06-14T16:05:07.109316Z",
     "iopub.status.busy": "2023-06-14T16:05:07.108445Z",
     "iopub.status.idle": "2023-06-14T16:05:07.425725Z",
     "shell.execute_reply": "2023-06-14T16:05:07.424808Z"
    },
    "papermill": {
     "duration": 0.32434,
     "end_time": "2023-06-14T16:05:07.428237",
     "exception": false,
     "start_time": "2023-06-14T16:05:07.103897",
     "status": "completed"
    },
    "tags": []
   },
   "outputs": [],
   "source": [
    "train = pd.read_csv('/kaggle/input/playground-series-s3e17/train.csv')\n",
    "test = pd.read_csv('/kaggle/input/playground-series-s3e17/test.csv')"
   ]
  },
  {
   "cell_type": "code",
   "execution_count": 3,
   "id": "4d261489",
   "metadata": {
    "execution": {
     "iopub.execute_input": "2023-06-14T16:05:07.436712Z",
     "iopub.status.busy": "2023-06-14T16:05:07.436349Z",
     "iopub.status.idle": "2023-06-14T16:05:07.520971Z",
     "shell.execute_reply": "2023-06-14T16:05:07.520015Z"
    },
    "papermill": {
     "duration": 0.090902,
     "end_time": "2023-06-14T16:05:07.522779",
     "exception": false,
     "start_time": "2023-06-14T16:05:07.431877",
     "status": "completed"
    },
    "tags": []
   },
   "outputs": [
    {
     "data": {
      "text/html": [
       "<div>\n",
       "<style scoped>\n",
       "    .dataframe tbody tr th:only-of-type {\n",
       "        vertical-align: middle;\n",
       "    }\n",
       "\n",
       "    .dataframe tbody tr th {\n",
       "        vertical-align: top;\n",
       "    }\n",
       "\n",
       "    .dataframe thead th {\n",
       "        text-align: right;\n",
       "    }\n",
       "</style>\n",
       "<table border=\"1\" class=\"dataframe\">\n",
       "  <thead>\n",
       "    <tr style=\"text-align: right;\">\n",
       "      <th></th>\n",
       "      <th>id</th>\n",
       "      <th>Air temperature [K]</th>\n",
       "      <th>Process temperature [K]</th>\n",
       "      <th>Rotational speed [rpm]</th>\n",
       "      <th>Torque [Nm]</th>\n",
       "      <th>Tool wear [min]</th>\n",
       "      <th>Machine failure</th>\n",
       "      <th>TWF</th>\n",
       "      <th>HDF</th>\n",
       "      <th>PWF</th>\n",
       "      <th>OSF</th>\n",
       "      <th>RNF</th>\n",
       "    </tr>\n",
       "  </thead>\n",
       "  <tbody>\n",
       "    <tr>\n",
       "      <th>count</th>\n",
       "      <td>136429.000000</td>\n",
       "      <td>136429.000000</td>\n",
       "      <td>136429.000000</td>\n",
       "      <td>136429.000000</td>\n",
       "      <td>136429.000000</td>\n",
       "      <td>136429.000000</td>\n",
       "      <td>136429.000000</td>\n",
       "      <td>136429.000000</td>\n",
       "      <td>136429.000000</td>\n",
       "      <td>136429.000000</td>\n",
       "      <td>136429.000000</td>\n",
       "      <td>136429.000000</td>\n",
       "    </tr>\n",
       "    <tr>\n",
       "      <th>mean</th>\n",
       "      <td>68214.000000</td>\n",
       "      <td>299.862776</td>\n",
       "      <td>309.941070</td>\n",
       "      <td>1520.331110</td>\n",
       "      <td>40.348643</td>\n",
       "      <td>104.408901</td>\n",
       "      <td>0.015744</td>\n",
       "      <td>0.001554</td>\n",
       "      <td>0.005160</td>\n",
       "      <td>0.002397</td>\n",
       "      <td>0.003958</td>\n",
       "      <td>0.002258</td>\n",
       "    </tr>\n",
       "    <tr>\n",
       "      <th>std</th>\n",
       "      <td>39383.804275</td>\n",
       "      <td>1.862247</td>\n",
       "      <td>1.385173</td>\n",
       "      <td>138.736632</td>\n",
       "      <td>8.502229</td>\n",
       "      <td>63.965040</td>\n",
       "      <td>0.124486</td>\n",
       "      <td>0.039389</td>\n",
       "      <td>0.071649</td>\n",
       "      <td>0.048899</td>\n",
       "      <td>0.062789</td>\n",
       "      <td>0.047461</td>\n",
       "    </tr>\n",
       "    <tr>\n",
       "      <th>min</th>\n",
       "      <td>0.000000</td>\n",
       "      <td>295.300000</td>\n",
       "      <td>305.800000</td>\n",
       "      <td>1181.000000</td>\n",
       "      <td>3.800000</td>\n",
       "      <td>0.000000</td>\n",
       "      <td>0.000000</td>\n",
       "      <td>0.000000</td>\n",
       "      <td>0.000000</td>\n",
       "      <td>0.000000</td>\n",
       "      <td>0.000000</td>\n",
       "      <td>0.000000</td>\n",
       "    </tr>\n",
       "    <tr>\n",
       "      <th>25%</th>\n",
       "      <td>34107.000000</td>\n",
       "      <td>298.300000</td>\n",
       "      <td>308.700000</td>\n",
       "      <td>1432.000000</td>\n",
       "      <td>34.600000</td>\n",
       "      <td>48.000000</td>\n",
       "      <td>0.000000</td>\n",
       "      <td>0.000000</td>\n",
       "      <td>0.000000</td>\n",
       "      <td>0.000000</td>\n",
       "      <td>0.000000</td>\n",
       "      <td>0.000000</td>\n",
       "    </tr>\n",
       "    <tr>\n",
       "      <th>50%</th>\n",
       "      <td>68214.000000</td>\n",
       "      <td>300.000000</td>\n",
       "      <td>310.000000</td>\n",
       "      <td>1493.000000</td>\n",
       "      <td>40.400000</td>\n",
       "      <td>106.000000</td>\n",
       "      <td>0.000000</td>\n",
       "      <td>0.000000</td>\n",
       "      <td>0.000000</td>\n",
       "      <td>0.000000</td>\n",
       "      <td>0.000000</td>\n",
       "      <td>0.000000</td>\n",
       "    </tr>\n",
       "    <tr>\n",
       "      <th>75%</th>\n",
       "      <td>102321.000000</td>\n",
       "      <td>301.200000</td>\n",
       "      <td>310.900000</td>\n",
       "      <td>1580.000000</td>\n",
       "      <td>46.100000</td>\n",
       "      <td>159.000000</td>\n",
       "      <td>0.000000</td>\n",
       "      <td>0.000000</td>\n",
       "      <td>0.000000</td>\n",
       "      <td>0.000000</td>\n",
       "      <td>0.000000</td>\n",
       "      <td>0.000000</td>\n",
       "    </tr>\n",
       "    <tr>\n",
       "      <th>max</th>\n",
       "      <td>136428.000000</td>\n",
       "      <td>304.400000</td>\n",
       "      <td>313.800000</td>\n",
       "      <td>2886.000000</td>\n",
       "      <td>76.600000</td>\n",
       "      <td>253.000000</td>\n",
       "      <td>1.000000</td>\n",
       "      <td>1.000000</td>\n",
       "      <td>1.000000</td>\n",
       "      <td>1.000000</td>\n",
       "      <td>1.000000</td>\n",
       "      <td>1.000000</td>\n",
       "    </tr>\n",
       "  </tbody>\n",
       "</table>\n",
       "</div>"
      ],
      "text/plain": [
       "                  id  Air temperature [K]  Process temperature [K]  \\\n",
       "count  136429.000000        136429.000000            136429.000000   \n",
       "mean    68214.000000           299.862776               309.941070   \n",
       "std     39383.804275             1.862247                 1.385173   \n",
       "min         0.000000           295.300000               305.800000   \n",
       "25%     34107.000000           298.300000               308.700000   \n",
       "50%     68214.000000           300.000000               310.000000   \n",
       "75%    102321.000000           301.200000               310.900000   \n",
       "max    136428.000000           304.400000               313.800000   \n",
       "\n",
       "       Rotational speed [rpm]    Torque [Nm]  Tool wear [min]  \\\n",
       "count           136429.000000  136429.000000    136429.000000   \n",
       "mean              1520.331110      40.348643       104.408901   \n",
       "std                138.736632       8.502229        63.965040   \n",
       "min               1181.000000       3.800000         0.000000   \n",
       "25%               1432.000000      34.600000        48.000000   \n",
       "50%               1493.000000      40.400000       106.000000   \n",
       "75%               1580.000000      46.100000       159.000000   \n",
       "max               2886.000000      76.600000       253.000000   \n",
       "\n",
       "       Machine failure            TWF            HDF            PWF  \\\n",
       "count    136429.000000  136429.000000  136429.000000  136429.000000   \n",
       "mean          0.015744       0.001554       0.005160       0.002397   \n",
       "std           0.124486       0.039389       0.071649       0.048899   \n",
       "min           0.000000       0.000000       0.000000       0.000000   \n",
       "25%           0.000000       0.000000       0.000000       0.000000   \n",
       "50%           0.000000       0.000000       0.000000       0.000000   \n",
       "75%           0.000000       0.000000       0.000000       0.000000   \n",
       "max           1.000000       1.000000       1.000000       1.000000   \n",
       "\n",
       "                 OSF            RNF  \n",
       "count  136429.000000  136429.000000  \n",
       "mean        0.003958       0.002258  \n",
       "std         0.062789       0.047461  \n",
       "min         0.000000       0.000000  \n",
       "25%         0.000000       0.000000  \n",
       "50%         0.000000       0.000000  \n",
       "75%         0.000000       0.000000  \n",
       "max         1.000000       1.000000  "
      ]
     },
     "execution_count": 3,
     "metadata": {},
     "output_type": "execute_result"
    }
   ],
   "source": [
    "train.describe()"
   ]
  },
  {
   "cell_type": "code",
   "execution_count": 4,
   "id": "894ef5ad",
   "metadata": {
    "execution": {
     "iopub.execute_input": "2023-06-14T16:05:07.531087Z",
     "iopub.status.busy": "2023-06-14T16:05:07.530750Z",
     "iopub.status.idle": "2023-06-14T16:05:07.585581Z",
     "shell.execute_reply": "2023-06-14T16:05:07.583738Z"
    },
    "papermill": {
     "duration": 0.061732,
     "end_time": "2023-06-14T16:05:07.588176",
     "exception": false,
     "start_time": "2023-06-14T16:05:07.526444",
     "status": "completed"
    },
    "tags": []
   },
   "outputs": [
    {
     "name": "stdout",
     "output_type": "stream",
     "text": [
      "<class 'pandas.core.frame.DataFrame'>\n",
      "RangeIndex: 136429 entries, 0 to 136428\n",
      "Data columns (total 14 columns):\n",
      " #   Column                   Non-Null Count   Dtype  \n",
      "---  ------                   --------------   -----  \n",
      " 0   id                       136429 non-null  int64  \n",
      " 1   Product ID               136429 non-null  object \n",
      " 2   Type                     136429 non-null  object \n",
      " 3   Air temperature [K]      136429 non-null  float64\n",
      " 4   Process temperature [K]  136429 non-null  float64\n",
      " 5   Rotational speed [rpm]   136429 non-null  int64  \n",
      " 6   Torque [Nm]              136429 non-null  float64\n",
      " 7   Tool wear [min]          136429 non-null  int64  \n",
      " 8   Machine failure          136429 non-null  int64  \n",
      " 9   TWF                      136429 non-null  int64  \n",
      " 10  HDF                      136429 non-null  int64  \n",
      " 11  PWF                      136429 non-null  int64  \n",
      " 12  OSF                      136429 non-null  int64  \n",
      " 13  RNF                      136429 non-null  int64  \n",
      "dtypes: float64(3), int64(9), object(2)\n",
      "memory usage: 14.6+ MB\n"
     ]
    }
   ],
   "source": [
    "train.info()"
   ]
  },
  {
   "cell_type": "code",
   "execution_count": 5,
   "id": "9876363d",
   "metadata": {
    "execution": {
     "iopub.execute_input": "2023-06-14T16:05:07.597535Z",
     "iopub.status.busy": "2023-06-14T16:05:07.597226Z",
     "iopub.status.idle": "2023-06-14T16:05:07.617538Z",
     "shell.execute_reply": "2023-06-14T16:05:07.616713Z"
    },
    "papermill": {
     "duration": 0.026911,
     "end_time": "2023-06-14T16:05:07.619223",
     "exception": false,
     "start_time": "2023-06-14T16:05:07.592312",
     "status": "completed"
    },
    "tags": []
   },
   "outputs": [
    {
     "data": {
      "text/plain": [
       "TWF  HDF  PWF  OSF  RNF\n",
       "0    0    0    0    0      134473\n",
       "     1    0    0    0         634\n",
       "     0    0    1    0         448\n",
       "               0    1         303\n",
       "          1    0    0         257\n",
       "1    0    0    0    0         185\n",
       "0    1    0    1    0          40\n",
       "     0    1    1    0          35\n",
       "     1    1    0    0          20\n",
       "1    0    0    1    0          11\n",
       "          1    0    0           9\n",
       "0    1    1    1    0           3\n",
       "1    1    0    0    0           3\n",
       "0    1    0    0    1           2\n",
       "     0    1    0    1           1\n",
       "          0    1    1           1\n",
       "1    0    0    0    1           1\n",
       "          1    1    0           1\n",
       "     1    0    1    0           1\n",
       "          1    0    0           1\n",
       "dtype: int64"
      ]
     },
     "execution_count": 5,
     "metadata": {},
     "output_type": "execute_result"
    }
   ],
   "source": [
    "train[['TWF','HDF','PWF','OSF','RNF']].value_counts()"
   ]
  },
  {
   "cell_type": "code",
   "execution_count": 6,
   "id": "5264a833",
   "metadata": {
    "execution": {
     "iopub.execute_input": "2023-06-14T16:05:07.628220Z",
     "iopub.status.busy": "2023-06-14T16:05:07.627921Z",
     "iopub.status.idle": "2023-06-14T16:05:07.675618Z",
     "shell.execute_reply": "2023-06-14T16:05:07.674486Z"
    },
    "papermill": {
     "duration": 0.054525,
     "end_time": "2023-06-14T16:05:07.677783",
     "exception": false,
     "start_time": "2023-06-14T16:05:07.623258",
     "status": "completed"
    },
    "tags": []
   },
   "outputs": [],
   "source": [
    "# train['Type'][train['Type'] == 'L'] = 0\n",
    "# train['Type'][train['Type'] == 'M'] = 1\n",
    "# train['Type'][train['Type'] == 'H'] = 2\n",
    "\n",
    "train['Type'] = train['Type'].replace({'L':0, 'M':1, 'H':2})"
   ]
  },
  {
   "cell_type": "code",
   "execution_count": 7,
   "id": "43821790",
   "metadata": {
    "execution": {
     "iopub.execute_input": "2023-06-14T16:05:07.688188Z",
     "iopub.status.busy": "2023-06-14T16:05:07.687869Z",
     "iopub.status.idle": "2023-06-14T16:05:07.697094Z",
     "shell.execute_reply": "2023-06-14T16:05:07.696187Z"
    },
    "papermill": {
     "duration": 0.016916,
     "end_time": "2023-06-14T16:05:07.698786",
     "exception": false,
     "start_time": "2023-06-14T16:05:07.681870",
     "status": "completed"
    },
    "tags": []
   },
   "outputs": [],
   "source": [
    "X_train = train[['Air temperature [K]','Process temperature [K]','Rotational speed [rpm]','Torque [Nm]','TWF','HDF','PWF','OSF','RNF']].values\n",
    "y_train = train['Machine failure']"
   ]
  },
  {
   "cell_type": "code",
   "execution_count": 8,
   "id": "bb13519a",
   "metadata": {
    "execution": {
     "iopub.execute_input": "2023-06-14T16:05:07.707381Z",
     "iopub.status.busy": "2023-06-14T16:05:07.707107Z",
     "iopub.status.idle": "2023-06-14T16:05:07.764424Z",
     "shell.execute_reply": "2023-06-14T16:05:07.763536Z"
    },
    "papermill": {
     "duration": 0.063614,
     "end_time": "2023-06-14T16:05:07.766214",
     "exception": false,
     "start_time": "2023-06-14T16:05:07.702600",
     "status": "completed"
    },
    "tags": []
   },
   "outputs": [
    {
     "data": {
      "text/html": [
       "<style>#sk-container-id-1 {color: black;background-color: white;}#sk-container-id-1 pre{padding: 0;}#sk-container-id-1 div.sk-toggleable {background-color: white;}#sk-container-id-1 label.sk-toggleable__label {cursor: pointer;display: block;width: 100%;margin-bottom: 0;padding: 0.3em;box-sizing: border-box;text-align: center;}#sk-container-id-1 label.sk-toggleable__label-arrow:before {content: \"▸\";float: left;margin-right: 0.25em;color: #696969;}#sk-container-id-1 label.sk-toggleable__label-arrow:hover:before {color: black;}#sk-container-id-1 div.sk-estimator:hover label.sk-toggleable__label-arrow:before {color: black;}#sk-container-id-1 div.sk-toggleable__content {max-height: 0;max-width: 0;overflow: hidden;text-align: left;background-color: #f0f8ff;}#sk-container-id-1 div.sk-toggleable__content pre {margin: 0.2em;color: black;border-radius: 0.25em;background-color: #f0f8ff;}#sk-container-id-1 input.sk-toggleable__control:checked~div.sk-toggleable__content {max-height: 200px;max-width: 100%;overflow: auto;}#sk-container-id-1 input.sk-toggleable__control:checked~label.sk-toggleable__label-arrow:before {content: \"▾\";}#sk-container-id-1 div.sk-estimator input.sk-toggleable__control:checked~label.sk-toggleable__label {background-color: #d4ebff;}#sk-container-id-1 div.sk-label input.sk-toggleable__control:checked~label.sk-toggleable__label {background-color: #d4ebff;}#sk-container-id-1 input.sk-hidden--visually {border: 0;clip: rect(1px 1px 1px 1px);clip: rect(1px, 1px, 1px, 1px);height: 1px;margin: -1px;overflow: hidden;padding: 0;position: absolute;width: 1px;}#sk-container-id-1 div.sk-estimator {font-family: monospace;background-color: #f0f8ff;border: 1px dotted black;border-radius: 0.25em;box-sizing: border-box;margin-bottom: 0.5em;}#sk-container-id-1 div.sk-estimator:hover {background-color: #d4ebff;}#sk-container-id-1 div.sk-parallel-item::after {content: \"\";width: 100%;border-bottom: 1px solid gray;flex-grow: 1;}#sk-container-id-1 div.sk-label:hover label.sk-toggleable__label {background-color: #d4ebff;}#sk-container-id-1 div.sk-serial::before {content: \"\";position: absolute;border-left: 1px solid gray;box-sizing: border-box;top: 0;bottom: 0;left: 50%;z-index: 0;}#sk-container-id-1 div.sk-serial {display: flex;flex-direction: column;align-items: center;background-color: white;padding-right: 0.2em;padding-left: 0.2em;position: relative;}#sk-container-id-1 div.sk-item {position: relative;z-index: 1;}#sk-container-id-1 div.sk-parallel {display: flex;align-items: stretch;justify-content: center;background-color: white;position: relative;}#sk-container-id-1 div.sk-item::before, #sk-container-id-1 div.sk-parallel-item::before {content: \"\";position: absolute;border-left: 1px solid gray;box-sizing: border-box;top: 0;bottom: 0;left: 50%;z-index: -1;}#sk-container-id-1 div.sk-parallel-item {display: flex;flex-direction: column;z-index: 1;position: relative;background-color: white;}#sk-container-id-1 div.sk-parallel-item:first-child::after {align-self: flex-end;width: 50%;}#sk-container-id-1 div.sk-parallel-item:last-child::after {align-self: flex-start;width: 50%;}#sk-container-id-1 div.sk-parallel-item:only-child::after {width: 0;}#sk-container-id-1 div.sk-dashed-wrapped {border: 1px dashed gray;margin: 0 0.4em 0.5em 0.4em;box-sizing: border-box;padding-bottom: 0.4em;background-color: white;}#sk-container-id-1 div.sk-label label {font-family: monospace;font-weight: bold;display: inline-block;line-height: 1.2em;}#sk-container-id-1 div.sk-label-container {text-align: center;}#sk-container-id-1 div.sk-container {/* jupyter's `normalize.less` sets `[hidden] { display: none; }` but bootstrap.min.css set `[hidden] { display: none !important; }` so we also need the `!important` here to be able to override the default hidden behavior on the sphinx rendered scikit-learn.org. See: https://github.com/scikit-learn/scikit-learn/issues/21755 */display: inline-block !important;position: relative;}#sk-container-id-1 div.sk-text-repr-fallback {display: none;}</style><div id=\"sk-container-id-1\" class=\"sk-top-container\"><div class=\"sk-text-repr-fallback\"><pre>LinearRegression()</pre><b>In a Jupyter environment, please rerun this cell to show the HTML representation or trust the notebook. <br />On GitHub, the HTML representation is unable to render, please try loading this page with nbviewer.org.</b></div><div class=\"sk-container\" hidden><div class=\"sk-item\"><div class=\"sk-estimator sk-toggleable\"><input class=\"sk-toggleable__control sk-hidden--visually\" id=\"sk-estimator-id-1\" type=\"checkbox\" checked><label for=\"sk-estimator-id-1\" class=\"sk-toggleable__label sk-toggleable__label-arrow\">LinearRegression</label><div class=\"sk-toggleable__content\"><pre>LinearRegression()</pre></div></div></div></div></div>"
      ],
      "text/plain": [
       "LinearRegression()"
      ]
     },
     "execution_count": 8,
     "metadata": {},
     "output_type": "execute_result"
    }
   ],
   "source": [
    "clf = LinearRegression()\n",
    "clf.fit(X_train, y_train)"
   ]
  },
  {
   "cell_type": "code",
   "execution_count": 9,
   "id": "1cf4aca4",
   "metadata": {
    "execution": {
     "iopub.execute_input": "2023-06-14T16:05:07.776277Z",
     "iopub.status.busy": "2023-06-14T16:05:07.775355Z",
     "iopub.status.idle": "2023-06-14T16:05:07.809853Z",
     "shell.execute_reply": "2023-06-14T16:05:07.809122Z"
    },
    "papermill": {
     "duration": 0.04167,
     "end_time": "2023-06-14T16:05:07.811959",
     "exception": false,
     "start_time": "2023-06-14T16:05:07.770289",
     "status": "completed"
    },
    "tags": []
   },
   "outputs": [],
   "source": [
    "test['Type'] = test['Type'].replace({'L':0, 'M':1, 'H':2})"
   ]
  },
  {
   "cell_type": "code",
   "execution_count": 10,
   "id": "044d4895",
   "metadata": {
    "execution": {
     "iopub.execute_input": "2023-06-14T16:05:07.822737Z",
     "iopub.status.busy": "2023-06-14T16:05:07.821463Z",
     "iopub.status.idle": "2023-06-14T16:05:07.831507Z",
     "shell.execute_reply": "2023-06-14T16:05:07.830577Z"
    },
    "papermill": {
     "duration": 0.01747,
     "end_time": "2023-06-14T16:05:07.833659",
     "exception": false,
     "start_time": "2023-06-14T16:05:07.816189",
     "status": "completed"
    },
    "tags": []
   },
   "outputs": [],
   "source": [
    "X_test = test[['Air temperature [K]','Process temperature [K]','Rotational speed [rpm]','Torque [Nm]','TWF','HDF','PWF','OSF','RNF']].values"
   ]
  },
  {
   "cell_type": "code",
   "execution_count": 11,
   "id": "f09d3620",
   "metadata": {
    "execution": {
     "iopub.execute_input": "2023-06-14T16:05:07.843887Z",
     "iopub.status.busy": "2023-06-14T16:05:07.842906Z",
     "iopub.status.idle": "2023-06-14T16:05:07.849219Z",
     "shell.execute_reply": "2023-06-14T16:05:07.848592Z"
    },
    "papermill": {
     "duration": 0.016695,
     "end_time": "2023-06-14T16:05:07.854601",
     "exception": false,
     "start_time": "2023-06-14T16:05:07.837906",
     "status": "completed"
    },
    "tags": []
   },
   "outputs": [],
   "source": [
    "y_predict = clf.predict(X_test)"
   ]
  },
  {
   "cell_type": "code",
   "execution_count": 12,
   "id": "0efcc41b",
   "metadata": {
    "execution": {
     "iopub.execute_input": "2023-06-14T16:05:07.873075Z",
     "iopub.status.busy": "2023-06-14T16:05:07.872353Z",
     "iopub.status.idle": "2023-06-14T16:05:07.877475Z",
     "shell.execute_reply": "2023-06-14T16:05:07.876870Z"
    },
    "papermill": {
     "duration": 0.021514,
     "end_time": "2023-06-14T16:05:07.881277",
     "exception": false,
     "start_time": "2023-06-14T16:05:07.859763",
     "status": "completed"
    },
    "tags": []
   },
   "outputs": [
    {
     "data": {
      "text/plain": [
       "array([0.00330821, 0.00239841, 0.00376975, ..., 0.00326227, 0.00493012,\n",
       "       0.00307536])"
      ]
     },
     "execution_count": 12,
     "metadata": {},
     "output_type": "execute_result"
    }
   ],
   "source": [
    "y_predict"
   ]
  },
  {
   "cell_type": "code",
   "execution_count": 13,
   "id": "f6ce8aa7",
   "metadata": {
    "execution": {
     "iopub.execute_input": "2023-06-14T16:05:07.892256Z",
     "iopub.status.busy": "2023-06-14T16:05:07.891999Z",
     "iopub.status.idle": "2023-06-14T16:05:08.099387Z",
     "shell.execute_reply": "2023-06-14T16:05:08.098208Z"
    },
    "papermill": {
     "duration": 0.215814,
     "end_time": "2023-06-14T16:05:08.102013",
     "exception": false,
     "start_time": "2023-06-14T16:05:07.886199",
     "status": "completed"
    },
    "tags": []
   },
   "outputs": [],
   "source": [
    "id = np.array(test['id']).astype(int)\n",
    "\n",
    "submmit = pd.DataFrame(y_predict, id, columns = ['Machine failure'])\n",
    "\n",
    "submmit.to_csv(\"/kaggle/working/submmit.csv\", index_label = [\"id\"])"
   ]
  },
  {
   "cell_type": "code",
   "execution_count": 14,
   "id": "d2dcb41c",
   "metadata": {
    "execution": {
     "iopub.execute_input": "2023-06-14T16:05:08.114798Z",
     "iopub.status.busy": "2023-06-14T16:05:08.113875Z",
     "iopub.status.idle": "2023-06-14T16:05:08.133892Z",
     "shell.execute_reply": "2023-06-14T16:05:08.132783Z"
    },
    "papermill": {
     "duration": 0.028821,
     "end_time": "2023-06-14T16:05:08.135864",
     "exception": false,
     "start_time": "2023-06-14T16:05:08.107043",
     "status": "completed"
    },
    "tags": []
   },
   "outputs": [
    {
     "data": {
      "text/plain": [
       "0.016270    21\n",
       "0.007328    14\n",
       "0.011029    11\n",
       "0.001801    11\n",
       "0.010301    10\n",
       "            ..\n",
       "0.006156     1\n",
       "0.001743     1\n",
       "0.007389     1\n",
       "0.003162     1\n",
       "0.003075     1\n",
       "Name: Machine failure, Length: 88594, dtype: int64"
      ]
     },
     "execution_count": 14,
     "metadata": {},
     "output_type": "execute_result"
    }
   ],
   "source": [
    "submmit['Machine failure'].value_counts()"
   ]
  },
  {
   "cell_type": "code",
   "execution_count": null,
   "id": "9c252fc8",
   "metadata": {
    "papermill": {
     "duration": 0.004017,
     "end_time": "2023-06-14T16:05:08.145783",
     "exception": false,
     "start_time": "2023-06-14T16:05:08.141766",
     "status": "completed"
    },
    "tags": []
   },
   "outputs": [],
   "source": []
  }
 ],
 "metadata": {
  "kernelspec": {
   "display_name": "Python 3",
   "language": "python",
   "name": "python3"
  },
  "language_info": {
   "codemirror_mode": {
    "name": "ipython",
    "version": 3
   },
   "file_extension": ".py",
   "mimetype": "text/x-python",
   "name": "python",
   "nbconvert_exporter": "python",
   "pygments_lexer": "ipython3",
   "version": "3.10.10"
  },
  "papermill": {
   "default_parameters": {},
   "duration": 11.032545,
   "end_time": "2023-06-14T16:05:08.969924",
   "environment_variables": {},
   "exception": null,
   "input_path": "__notebook__.ipynb",
   "output_path": "__notebook__.ipynb",
   "parameters": {},
   "start_time": "2023-06-14T16:04:57.937379",
   "version": "2.4.0"
  }
 },
 "nbformat": 4,
 "nbformat_minor": 5
}

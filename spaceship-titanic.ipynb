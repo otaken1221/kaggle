{
 "cells": [
  {
   "cell_type": "code",
   "execution_count": 1,
   "id": "9d346820",
   "metadata": {
    "_cell_guid": "b1076dfc-b9ad-4769-8c92-a6c4dae69d19",
    "_uuid": "8f2839f25d086af736a60e9eeb907d3b93b6e0e5",
    "execution": {
     "iopub.execute_input": "2023-06-20T09:12:11.360293Z",
     "iopub.status.busy": "2023-06-20T09:12:11.359780Z",
     "iopub.status.idle": "2023-06-20T09:12:13.235207Z",
     "shell.execute_reply": "2023-06-20T09:12:13.234046Z"
    },
    "papermill": {
     "duration": 1.892414,
     "end_time": "2023-06-20T09:12:13.238303",
     "exception": false,
     "start_time": "2023-06-20T09:12:11.345889",
     "status": "completed"
    },
    "tags": []
   },
   "outputs": [],
   "source": [
    "import numpy as np\n",
    "import pandas as pd\n",
    "import matplotlib.pyplot as plt\n",
    "import seaborn as sns\n",
    "from sklearn.metrics import accuracy_score\n",
    "from sklearn.model_selection import train_test_split"
   ]
  },
  {
   "cell_type": "code",
   "execution_count": 2,
   "id": "ea7e4dfc",
   "metadata": {
    "execution": {
     "iopub.execute_input": "2023-06-20T09:12:13.258540Z",
     "iopub.status.busy": "2023-06-20T09:12:13.258168Z",
     "iopub.status.idle": "2023-06-20T09:12:13.365078Z",
     "shell.execute_reply": "2023-06-20T09:12:13.363722Z"
    },
    "papermill": {
     "duration": 0.120111,
     "end_time": "2023-06-20T09:12:13.367896",
     "exception": false,
     "start_time": "2023-06-20T09:12:13.247785",
     "status": "completed"
    },
    "tags": []
   },
   "outputs": [],
   "source": [
    "train = pd.read_csv('/kaggle/input/spaceship-titanic/train.csv')\n",
    "test = pd.read_csv('/kaggle/input/spaceship-titanic/test.csv')"
   ]
  },
  {
   "cell_type": "code",
   "execution_count": 3,
   "id": "65381941",
   "metadata": {
    "execution": {
     "iopub.execute_input": "2023-06-20T09:12:13.389061Z",
     "iopub.status.busy": "2023-06-20T09:12:13.388668Z",
     "iopub.status.idle": "2023-06-20T09:12:13.449273Z",
     "shell.execute_reply": "2023-06-20T09:12:13.448048Z"
    },
    "papermill": {
     "duration": 0.07492,
     "end_time": "2023-06-20T09:12:13.452858",
     "exception": false,
     "start_time": "2023-06-20T09:12:13.377938",
     "status": "completed"
    },
    "tags": []
   },
   "outputs": [
    {
     "data": {
      "text/html": [
       "<div>\n",
       "<style scoped>\n",
       "    .dataframe tbody tr th:only-of-type {\n",
       "        vertical-align: middle;\n",
       "    }\n",
       "\n",
       "    .dataframe tbody tr th {\n",
       "        vertical-align: top;\n",
       "    }\n",
       "\n",
       "    .dataframe thead th {\n",
       "        text-align: right;\n",
       "    }\n",
       "</style>\n",
       "<table border=\"1\" class=\"dataframe\">\n",
       "  <thead>\n",
       "    <tr style=\"text-align: right;\">\n",
       "      <th></th>\n",
       "      <th>Age</th>\n",
       "      <th>RoomService</th>\n",
       "      <th>FoodCourt</th>\n",
       "      <th>ShoppingMall</th>\n",
       "      <th>Spa</th>\n",
       "      <th>VRDeck</th>\n",
       "    </tr>\n",
       "  </thead>\n",
       "  <tbody>\n",
       "    <tr>\n",
       "      <th>count</th>\n",
       "      <td>8514.000000</td>\n",
       "      <td>8512.000000</td>\n",
       "      <td>8510.000000</td>\n",
       "      <td>8485.000000</td>\n",
       "      <td>8510.000000</td>\n",
       "      <td>8505.000000</td>\n",
       "    </tr>\n",
       "    <tr>\n",
       "      <th>mean</th>\n",
       "      <td>28.827930</td>\n",
       "      <td>224.687617</td>\n",
       "      <td>458.077203</td>\n",
       "      <td>173.729169</td>\n",
       "      <td>311.138778</td>\n",
       "      <td>304.854791</td>\n",
       "    </tr>\n",
       "    <tr>\n",
       "      <th>std</th>\n",
       "      <td>14.489021</td>\n",
       "      <td>666.717663</td>\n",
       "      <td>1611.489240</td>\n",
       "      <td>604.696458</td>\n",
       "      <td>1136.705535</td>\n",
       "      <td>1145.717189</td>\n",
       "    </tr>\n",
       "    <tr>\n",
       "      <th>min</th>\n",
       "      <td>0.000000</td>\n",
       "      <td>0.000000</td>\n",
       "      <td>0.000000</td>\n",
       "      <td>0.000000</td>\n",
       "      <td>0.000000</td>\n",
       "      <td>0.000000</td>\n",
       "    </tr>\n",
       "    <tr>\n",
       "      <th>25%</th>\n",
       "      <td>19.000000</td>\n",
       "      <td>0.000000</td>\n",
       "      <td>0.000000</td>\n",
       "      <td>0.000000</td>\n",
       "      <td>0.000000</td>\n",
       "      <td>0.000000</td>\n",
       "    </tr>\n",
       "    <tr>\n",
       "      <th>50%</th>\n",
       "      <td>27.000000</td>\n",
       "      <td>0.000000</td>\n",
       "      <td>0.000000</td>\n",
       "      <td>0.000000</td>\n",
       "      <td>0.000000</td>\n",
       "      <td>0.000000</td>\n",
       "    </tr>\n",
       "    <tr>\n",
       "      <th>75%</th>\n",
       "      <td>38.000000</td>\n",
       "      <td>47.000000</td>\n",
       "      <td>76.000000</td>\n",
       "      <td>27.000000</td>\n",
       "      <td>59.000000</td>\n",
       "      <td>46.000000</td>\n",
       "    </tr>\n",
       "    <tr>\n",
       "      <th>max</th>\n",
       "      <td>79.000000</td>\n",
       "      <td>14327.000000</td>\n",
       "      <td>29813.000000</td>\n",
       "      <td>23492.000000</td>\n",
       "      <td>22408.000000</td>\n",
       "      <td>24133.000000</td>\n",
       "    </tr>\n",
       "  </tbody>\n",
       "</table>\n",
       "</div>"
      ],
      "text/plain": [
       "               Age   RoomService     FoodCourt  ShoppingMall           Spa  \\\n",
       "count  8514.000000   8512.000000   8510.000000   8485.000000   8510.000000   \n",
       "mean     28.827930    224.687617    458.077203    173.729169    311.138778   \n",
       "std      14.489021    666.717663   1611.489240    604.696458   1136.705535   \n",
       "min       0.000000      0.000000      0.000000      0.000000      0.000000   \n",
       "25%      19.000000      0.000000      0.000000      0.000000      0.000000   \n",
       "50%      27.000000      0.000000      0.000000      0.000000      0.000000   \n",
       "75%      38.000000     47.000000     76.000000     27.000000     59.000000   \n",
       "max      79.000000  14327.000000  29813.000000  23492.000000  22408.000000   \n",
       "\n",
       "             VRDeck  \n",
       "count   8505.000000  \n",
       "mean     304.854791  \n",
       "std     1145.717189  \n",
       "min        0.000000  \n",
       "25%        0.000000  \n",
       "50%        0.000000  \n",
       "75%       46.000000  \n",
       "max    24133.000000  "
      ]
     },
     "execution_count": 3,
     "metadata": {},
     "output_type": "execute_result"
    }
   ],
   "source": [
    "train.describe()"
   ]
  },
  {
   "cell_type": "code",
   "execution_count": 4,
   "id": "1fa38916",
   "metadata": {
    "execution": {
     "iopub.execute_input": "2023-06-20T09:12:13.473702Z",
     "iopub.status.busy": "2023-06-20T09:12:13.473298Z",
     "iopub.status.idle": "2023-06-20T09:12:13.561413Z",
     "shell.execute_reply": "2023-06-20T09:12:13.560189Z"
    },
    "papermill": {
     "duration": 0.102676,
     "end_time": "2023-06-20T09:12:13.565205",
     "exception": false,
     "start_time": "2023-06-20T09:12:13.462529",
     "status": "completed"
    },
    "tags": []
   },
   "outputs": [],
   "source": [
    "train['deck'] = train['Cabin'].str.split('/', expand=True)[0]\n",
    "train['num'] = train['Cabin'].str.split('/', expand=True)[1]\n",
    "train['side'] = train['Cabin'].str.split('/', expand=True)[2]\n",
    "\n",
    "test['deck'] = test['Cabin'].str.split('/', expand=True)[0]\n",
    "test['num'] = test['Cabin'].str.split('/', expand=True)[1]\n",
    "test['side'] = test['Cabin'].str.split('/', expand=True)[2]"
   ]
  },
  {
   "cell_type": "code",
   "execution_count": 5,
   "id": "9109a573",
   "metadata": {
    "execution": {
     "iopub.execute_input": "2023-06-20T09:12:13.586226Z",
     "iopub.status.busy": "2023-06-20T09:12:13.585844Z",
     "iopub.status.idle": "2023-06-20T09:12:13.595147Z",
     "shell.execute_reply": "2023-06-20T09:12:13.594219Z"
    },
    "papermill": {
     "duration": 0.022616,
     "end_time": "2023-06-20T09:12:13.597573",
     "exception": false,
     "start_time": "2023-06-20T09:12:13.574957",
     "status": "completed"
    },
    "tags": []
   },
   "outputs": [],
   "source": [
    "train['HomePlanet'] = train['HomePlanet'].fillna('Earth')\n",
    "\n",
    "test['HomePlanet'] = test['HomePlanet'].fillna('Earth')"
   ]
  },
  {
   "cell_type": "code",
   "execution_count": 6,
   "id": "809f2e3f",
   "metadata": {
    "execution": {
     "iopub.execute_input": "2023-06-20T09:12:13.619856Z",
     "iopub.status.busy": "2023-06-20T09:12:13.619386Z",
     "iopub.status.idle": "2023-06-20T09:12:13.646320Z",
     "shell.execute_reply": "2023-06-20T09:12:13.644913Z"
    },
    "papermill": {
     "duration": 0.042368,
     "end_time": "2023-06-20T09:12:13.649524",
     "exception": false,
     "start_time": "2023-06-20T09:12:13.607156",
     "status": "completed"
    },
    "tags": []
   },
   "outputs": [],
   "source": [
    "train.replace({'CryoSleep':{False: 0, True: 1}}, inplace=True)\n",
    "\n",
    "test.replace({'CryoSleep':{False: 0, True: 1}}, inplace=True)"
   ]
  },
  {
   "cell_type": "code",
   "execution_count": 7,
   "id": "66067215",
   "metadata": {
    "execution": {
     "iopub.execute_input": "2023-06-20T09:12:13.672095Z",
     "iopub.status.busy": "2023-06-20T09:12:13.670894Z",
     "iopub.status.idle": "2023-06-20T09:12:13.678437Z",
     "shell.execute_reply": "2023-06-20T09:12:13.677221Z"
    },
    "papermill": {
     "duration": 0.021297,
     "end_time": "2023-06-20T09:12:13.681328",
     "exception": false,
     "start_time": "2023-06-20T09:12:13.660031",
     "status": "completed"
    },
    "tags": []
   },
   "outputs": [],
   "source": [
    "train['CryoSleep'] = train['CryoSleep'].fillna(0.5)\n",
    "\n",
    "test['CryoSleep'] = test['CryoSleep'].fillna(0.5)"
   ]
  },
  {
   "cell_type": "code",
   "execution_count": 8,
   "id": "ef4f1284",
   "metadata": {
    "execution": {
     "iopub.execute_input": "2023-06-20T09:12:13.702299Z",
     "iopub.status.busy": "2023-06-20T09:12:13.701897Z",
     "iopub.status.idle": "2023-06-20T09:12:13.716926Z",
     "shell.execute_reply": "2023-06-20T09:12:13.715702Z"
    },
    "papermill": {
     "duration": 0.028812,
     "end_time": "2023-06-20T09:12:13.719804",
     "exception": false,
     "start_time": "2023-06-20T09:12:13.690992",
     "status": "completed"
    },
    "tags": []
   },
   "outputs": [],
   "source": [
    "train['deck'] = train['deck'].fillna('F')\n",
    "train['side'] = train['side'].fillna('P')\n",
    "\n",
    "test['deck'] = test['deck'].fillna('F')\n",
    "test['side'] = test['side'].fillna('P')"
   ]
  },
  {
   "cell_type": "code",
   "execution_count": 9,
   "id": "0be3a039",
   "metadata": {
    "execution": {
     "iopub.execute_input": "2023-06-20T09:12:13.740626Z",
     "iopub.status.busy": "2023-06-20T09:12:13.740258Z",
     "iopub.status.idle": "2023-06-20T09:12:13.759781Z",
     "shell.execute_reply": "2023-06-20T09:12:13.758560Z"
    },
    "papermill": {
     "duration": 0.033195,
     "end_time": "2023-06-20T09:12:13.762520",
     "exception": false,
     "start_time": "2023-06-20T09:12:13.729325",
     "status": "completed"
    },
    "tags": []
   },
   "outputs": [],
   "source": [
    "Destination_dummy = pd.get_dummies(train['Destination'])\n",
    "train = pd.concat([train , Destination_dummy], axis=1)\n",
    "\n",
    "Destination_dummy = pd.get_dummies(test['Destination'])\n",
    "test = pd.concat([test , Destination_dummy], axis=1)"
   ]
  },
  {
   "cell_type": "code",
   "execution_count": 10,
   "id": "ce2f0a78",
   "metadata": {
    "execution": {
     "iopub.execute_input": "2023-06-20T09:12:13.784669Z",
     "iopub.status.busy": "2023-06-20T09:12:13.783769Z",
     "iopub.status.idle": "2023-06-20T09:12:13.797205Z",
     "shell.execute_reply": "2023-06-20T09:12:13.796109Z"
    },
    "papermill": {
     "duration": 0.027062,
     "end_time": "2023-06-20T09:12:13.799472",
     "exception": false,
     "start_time": "2023-06-20T09:12:13.772410",
     "status": "completed"
    },
    "tags": []
   },
   "outputs": [],
   "source": [
    "train = train.drop(['Cabin','Destination'], axis=1)\n",
    "\n",
    "test = test.drop(['Cabin','Destination'], axis=1)"
   ]
  },
  {
   "cell_type": "code",
   "execution_count": 11,
   "id": "86a4be45",
   "metadata": {
    "execution": {
     "iopub.execute_input": "2023-06-20T09:12:13.820577Z",
     "iopub.status.busy": "2023-06-20T09:12:13.820141Z",
     "iopub.status.idle": "2023-06-20T09:12:13.829951Z",
     "shell.execute_reply": "2023-06-20T09:12:13.828993Z"
    },
    "papermill": {
     "duration": 0.023479,
     "end_time": "2023-06-20T09:12:13.832566",
     "exception": false,
     "start_time": "2023-06-20T09:12:13.809087",
     "status": "completed"
    },
    "tags": []
   },
   "outputs": [],
   "source": [
    "train['Age'] = train['Age'].fillna(train['Age'].median())\n",
    "\n",
    "test['Age'] = test['Age'].fillna(test['Age'].median())"
   ]
  },
  {
   "cell_type": "code",
   "execution_count": 12,
   "id": "424923f5",
   "metadata": {
    "execution": {
     "iopub.execute_input": "2023-06-20T09:12:13.853527Z",
     "iopub.status.busy": "2023-06-20T09:12:13.853105Z",
     "iopub.status.idle": "2023-06-20T09:12:13.883739Z",
     "shell.execute_reply": "2023-06-20T09:12:13.882491Z"
    },
    "papermill": {
     "duration": 0.044645,
     "end_time": "2023-06-20T09:12:13.886700",
     "exception": false,
     "start_time": "2023-06-20T09:12:13.842055",
     "status": "completed"
    },
    "tags": []
   },
   "outputs": [],
   "source": [
    "train.replace({'VIP':{False: 0, True: 1}}, inplace=True)\n",
    "train['VIP'] = train['VIP'].fillna(0.5)\n",
    "\n",
    "test.replace({'VIP':{False: 0, True: 1}}, inplace=True)\n",
    "test['VIP'] = test['VIP'].fillna(0.5)"
   ]
  },
  {
   "cell_type": "code",
   "execution_count": 13,
   "id": "7bf06fff",
   "metadata": {
    "execution": {
     "iopub.execute_input": "2023-06-20T09:12:13.907670Z",
     "iopub.status.busy": "2023-06-20T09:12:13.907269Z",
     "iopub.status.idle": "2023-06-20T09:12:13.926992Z",
     "shell.execute_reply": "2023-06-20T09:12:13.925962Z"
    },
    "papermill": {
     "duration": 0.033472,
     "end_time": "2023-06-20T09:12:13.929753",
     "exception": false,
     "start_time": "2023-06-20T09:12:13.896281",
     "status": "completed"
    },
    "tags": []
   },
   "outputs": [],
   "source": [
    "train['RoomService'] = train['RoomService'].fillna(train['RoomService'].median())\n",
    "train['FoodCourt'] = train['FoodCourt'].fillna(train['FoodCourt'].median())\n",
    "train['ShoppingMall'] = train['ShoppingMall'].fillna(train['ShoppingMall'].median())\n",
    "train['Spa'] = train['Spa'].fillna(train['Spa'].median())\n",
    "train['VRDeck'] = train['VRDeck'].fillna(train['VRDeck'].median())\n",
    "\n",
    "test['RoomService'] = test['RoomService'].fillna(test['RoomService'].median())\n",
    "test['FoodCourt'] = test['FoodCourt'].fillna(test['FoodCourt'].median())\n",
    "test['ShoppingMall'] = test['ShoppingMall'].fillna(test['ShoppingMall'].median())\n",
    "test['Spa'] = test['Spa'].fillna(test['Spa'].median())\n",
    "test['VRDeck'] = test['VRDeck'].fillna(test['VRDeck'].median())"
   ]
  },
  {
   "cell_type": "code",
   "execution_count": 14,
   "id": "19b3f35d",
   "metadata": {
    "execution": {
     "iopub.execute_input": "2023-06-20T09:12:13.950493Z",
     "iopub.status.busy": "2023-06-20T09:12:13.950100Z",
     "iopub.status.idle": "2023-06-20T09:12:13.971491Z",
     "shell.execute_reply": "2023-06-20T09:12:13.970198Z"
    },
    "papermill": {
     "duration": 0.035388,
     "end_time": "2023-06-20T09:12:13.974456",
     "exception": false,
     "start_time": "2023-06-20T09:12:13.939068",
     "status": "completed"
    },
    "tags": []
   },
   "outputs": [],
   "source": [
    "train.replace({'HomePlanet':{'Earth': 0, 'Europa': 1, 'Mars': 2}}, inplace=True)\n",
    "\n",
    "test.replace({'HomePlanet':{'Earth': 0, 'Europa': 1, 'Mars': 2}}, inplace=True)"
   ]
  },
  {
   "cell_type": "code",
   "execution_count": 15,
   "id": "ff8ab959",
   "metadata": {
    "execution": {
     "iopub.execute_input": "2023-06-20T09:12:13.996673Z",
     "iopub.status.busy": "2023-06-20T09:12:13.996253Z",
     "iopub.status.idle": "2023-06-20T09:12:14.024721Z",
     "shell.execute_reply": "2023-06-20T09:12:14.023520Z"
    },
    "papermill": {
     "duration": 0.042795,
     "end_time": "2023-06-20T09:12:14.027422",
     "exception": false,
     "start_time": "2023-06-20T09:12:13.984627",
     "status": "completed"
    },
    "tags": []
   },
   "outputs": [],
   "source": [
    "train.replace({'deck':{'F': 0, 'G': 1, 'E': 2, 'B':3, 'C':4, 'D':5, 'A':6, 'T':7}}, inplace=True)\n",
    "\n",
    "test.replace({'deck':{'F': 0, 'G': 1, 'E': 2, 'B':3, 'C':4, 'D':5, 'A':6, 'T':7}}, inplace=True)"
   ]
  },
  {
   "cell_type": "code",
   "execution_count": 16,
   "id": "4cd9d059",
   "metadata": {
    "execution": {
     "iopub.execute_input": "2023-06-20T09:12:14.048099Z",
     "iopub.status.busy": "2023-06-20T09:12:14.047699Z",
     "iopub.status.idle": "2023-06-20T09:12:14.069021Z",
     "shell.execute_reply": "2023-06-20T09:12:14.067334Z"
    },
    "papermill": {
     "duration": 0.035509,
     "end_time": "2023-06-20T09:12:14.072392",
     "exception": false,
     "start_time": "2023-06-20T09:12:14.036883",
     "status": "completed"
    },
    "tags": []
   },
   "outputs": [],
   "source": [
    "train.replace({'side':{'P': 0, 'S': 1}}, inplace=True)\n",
    "\n",
    "test.replace({'side':{'P': 0, 'S': 1}}, inplace=True)"
   ]
  },
  {
   "cell_type": "code",
   "execution_count": 17,
   "id": "720acbf8",
   "metadata": {
    "execution": {
     "iopub.execute_input": "2023-06-20T09:12:14.093802Z",
     "iopub.status.busy": "2023-06-20T09:12:14.093387Z",
     "iopub.status.idle": "2023-06-20T09:12:14.102571Z",
     "shell.execute_reply": "2023-06-20T09:12:14.101420Z"
    },
    "papermill": {
     "duration": 0.022704,
     "end_time": "2023-06-20T09:12:14.105161",
     "exception": false,
     "start_time": "2023-06-20T09:12:14.082457",
     "status": "completed"
    },
    "tags": []
   },
   "outputs": [],
   "source": [
    "X = train[['HomePlanet', 'CryoSleep', 'Age', 'VIP', 'RoomService', 'FoodCourt', 'ShoppingMall', 'Spa', 'VRDeck', 'deck', 'side', '55 Cancri e', 'PSO J318.5-22', 'TRAPPIST-1e']].values\n",
    "y = train['Transported'].values"
   ]
  },
  {
   "cell_type": "code",
   "execution_count": 18,
   "id": "95ae6dca",
   "metadata": {
    "execution": {
     "iopub.execute_input": "2023-06-20T09:12:14.126398Z",
     "iopub.status.busy": "2023-06-20T09:12:14.125468Z",
     "iopub.status.idle": "2023-06-20T09:12:14.133755Z",
     "shell.execute_reply": "2023-06-20T09:12:14.132583Z"
    },
    "papermill": {
     "duration": 0.021524,
     "end_time": "2023-06-20T09:12:14.136302",
     "exception": false,
     "start_time": "2023-06-20T09:12:14.114778",
     "status": "completed"
    },
    "tags": []
   },
   "outputs": [],
   "source": [
    "X_train, X_test, y_train, y_test = train_test_split(X, y, test_size=0.2, random_state=42)"
   ]
  },
  {
   "cell_type": "markdown",
   "id": "e095140a",
   "metadata": {
    "papermill": {
     "duration": 0.009128,
     "end_time": "2023-06-20T09:12:14.154995",
     "exception": false,
     "start_time": "2023-06-20T09:12:14.145867",
     "status": "completed"
    },
    "tags": []
   },
   "source": [
    "# LogisticRegression"
   ]
  },
  {
   "cell_type": "code",
   "execution_count": 19,
   "id": "3967511b",
   "metadata": {
    "execution": {
     "iopub.execute_input": "2023-06-20T09:12:14.175730Z",
     "iopub.status.busy": "2023-06-20T09:12:14.175311Z",
     "iopub.status.idle": "2023-06-20T09:12:14.459248Z",
     "shell.execute_reply": "2023-06-20T09:12:14.457708Z"
    },
    "papermill": {
     "duration": 0.299748,
     "end_time": "2023-06-20T09:12:14.464130",
     "exception": false,
     "start_time": "2023-06-20T09:12:14.164382",
     "status": "completed"
    },
    "tags": []
   },
   "outputs": [
    {
     "name": "stderr",
     "output_type": "stream",
     "text": [
      "/opt/conda/lib/python3.10/site-packages/sklearn/linear_model/_logistic.py:458: ConvergenceWarning: lbfgs failed to converge (status=1):\n",
      "STOP: TOTAL NO. of ITERATIONS REACHED LIMIT.\n",
      "\n",
      "Increase the number of iterations (max_iter) or scale the data as shown in:\n",
      "    https://scikit-learn.org/stable/modules/preprocessing.html\n",
      "Please also refer to the documentation for alternative solver options:\n",
      "    https://scikit-learn.org/stable/modules/linear_model.html#logistic-regression\n",
      "  n_iter_i = _check_optimize_result(\n"
     ]
    },
    {
     "data": {
      "text/plain": [
       "0.7734330074755607"
      ]
     },
     "execution_count": 19,
     "metadata": {},
     "output_type": "execute_result"
    }
   ],
   "source": [
    "from sklearn.linear_model import LogisticRegression\n",
    "clf = LogisticRegression()\n",
    "clf.fit(X_train,y_train)\n",
    "y_predict_log = clf.predict(X_test)\n",
    "accuracy_score(y_test,y_predict_log)"
   ]
  },
  {
   "cell_type": "markdown",
   "id": "423cdd2f",
   "metadata": {
    "papermill": {
     "duration": 0.019555,
     "end_time": "2023-06-20T09:12:14.504282",
     "exception": false,
     "start_time": "2023-06-20T09:12:14.484727",
     "status": "completed"
    },
    "tags": []
   },
   "source": [
    "# RandomForestClassifier"
   ]
  },
  {
   "cell_type": "code",
   "execution_count": 20,
   "id": "46980aed",
   "metadata": {
    "execution": {
     "iopub.execute_input": "2023-06-20T09:12:14.547787Z",
     "iopub.status.busy": "2023-06-20T09:12:14.546964Z",
     "iopub.status.idle": "2023-06-20T09:12:15.593998Z",
     "shell.execute_reply": "2023-06-20T09:12:15.592501Z"
    },
    "papermill": {
     "duration": 1.07167,
     "end_time": "2023-06-20T09:12:15.596688",
     "exception": false,
     "start_time": "2023-06-20T09:12:14.525018",
     "status": "completed"
    },
    "tags": []
   },
   "outputs": [
    {
     "data": {
      "text/plain": [
       "0.7717078780908568"
      ]
     },
     "execution_count": 20,
     "metadata": {},
     "output_type": "execute_result"
    }
   ],
   "source": [
    "from sklearn.ensemble import RandomForestClassifier\n",
    "lr = RandomForestClassifier(n_estimators=100, n_jobs=4)\n",
    "lr.fit(X_train,y_train)\n",
    "y_predict_random = lr.predict(X_test)\n",
    "accuracy_score(y_test,y_predict_random)"
   ]
  },
  {
   "cell_type": "markdown",
   "id": "24b7b565",
   "metadata": {
    "papermill": {
     "duration": 0.010243,
     "end_time": "2023-06-20T09:12:15.617140",
     "exception": false,
     "start_time": "2023-06-20T09:12:15.606897",
     "status": "completed"
    },
    "tags": []
   },
   "source": [
    "# LinearSVC"
   ]
  },
  {
   "cell_type": "code",
   "execution_count": 21,
   "id": "84356d12",
   "metadata": {
    "execution": {
     "iopub.execute_input": "2023-06-20T09:12:15.639176Z",
     "iopub.status.busy": "2023-06-20T09:12:15.638010Z",
     "iopub.status.idle": "2023-06-20T09:12:16.152067Z",
     "shell.execute_reply": "2023-06-20T09:12:16.149881Z"
    },
    "papermill": {
     "duration": 0.529785,
     "end_time": "2023-06-20T09:12:16.156772",
     "exception": false,
     "start_time": "2023-06-20T09:12:15.626987",
     "status": "completed"
    },
    "tags": []
   },
   "outputs": [
    {
     "name": "stderr",
     "output_type": "stream",
     "text": [
      "/opt/conda/lib/python3.10/site-packages/sklearn/svm/_base.py:1244: ConvergenceWarning: Liblinear failed to converge, increase the number of iterations.\n",
      "  warnings.warn(\n"
     ]
    },
    {
     "data": {
      "text/plain": [
       "0.7038527889591719"
      ]
     },
     "execution_count": 21,
     "metadata": {},
     "output_type": "execute_result"
    }
   ],
   "source": [
    "from sklearn.svm import LinearSVC\n",
    "svm = LinearSVC()\n",
    "svm.fit(X_train,y_train)\n",
    "y_predict_svc = svm.predict(X_test)\n",
    "accuracy_score(y_test,y_predict_svc)"
   ]
  },
  {
   "cell_type": "markdown",
   "id": "29d4415b",
   "metadata": {
    "papermill": {
     "duration": 0.020777,
     "end_time": "2023-06-20T09:12:16.199059",
     "exception": false,
     "start_time": "2023-06-20T09:12:16.178282",
     "status": "completed"
    },
    "tags": []
   },
   "source": [
    "# Submmit with RandomForestClassifier"
   ]
  },
  {
   "cell_type": "code",
   "execution_count": 22,
   "id": "e2571ae3",
   "metadata": {
    "execution": {
     "iopub.execute_input": "2023-06-20T09:12:16.246242Z",
     "iopub.status.busy": "2023-06-20T09:12:16.245314Z",
     "iopub.status.idle": "2023-06-20T09:12:16.337298Z",
     "shell.execute_reply": "2023-06-20T09:12:16.336243Z"
    },
    "papermill": {
     "duration": 0.11965,
     "end_time": "2023-06-20T09:12:16.340357",
     "exception": false,
     "start_time": "2023-06-20T09:12:16.220707",
     "status": "completed"
    },
    "tags": []
   },
   "outputs": [],
   "source": [
    "X_test = test[['HomePlanet', 'CryoSleep', 'Age', 'VIP', 'RoomService', 'FoodCourt', 'ShoppingMall', 'Spa', 'VRDeck', 'deck', 'side','55 Cancri e', 'PSO J318.5-22', 'TRAPPIST-1e']].values\n",
    "y_predict = lr.predict(X_test)"
   ]
  },
  {
   "cell_type": "code",
   "execution_count": 23,
   "id": "7586675b",
   "metadata": {
    "execution": {
     "iopub.execute_input": "2023-06-20T09:12:16.362886Z",
     "iopub.status.busy": "2023-06-20T09:12:16.362483Z",
     "iopub.status.idle": "2023-06-20T09:12:16.369952Z",
     "shell.execute_reply": "2023-06-20T09:12:16.368988Z"
    },
    "papermill": {
     "duration": 0.021661,
     "end_time": "2023-06-20T09:12:16.372323",
     "exception": false,
     "start_time": "2023-06-20T09:12:16.350662",
     "status": "completed"
    },
    "tags": []
   },
   "outputs": [
    {
     "data": {
      "text/plain": [
       "(4277,)"
      ]
     },
     "execution_count": 23,
     "metadata": {},
     "output_type": "execute_result"
    }
   ],
   "source": [
    "y_predict.shape\n"
   ]
  },
  {
   "cell_type": "code",
   "execution_count": 24,
   "id": "6f5a4b8a",
   "metadata": {
    "execution": {
     "iopub.execute_input": "2023-06-20T09:12:16.395041Z",
     "iopub.status.busy": "2023-06-20T09:12:16.394486Z",
     "iopub.status.idle": "2023-06-20T09:12:16.403189Z",
     "shell.execute_reply": "2023-06-20T09:12:16.402048Z"
    },
    "papermill": {
     "duration": 0.022978,
     "end_time": "2023-06-20T09:12:16.405415",
     "exception": false,
     "start_time": "2023-06-20T09:12:16.382437",
     "status": "completed"
    },
    "tags": []
   },
   "outputs": [],
   "source": [
    "id = np.array(test['PassengerId']).astype(str)\n",
    "\n",
    "submmit = pd.DataFrame(y_predict, id, columns = ['Transported'])"
   ]
  },
  {
   "cell_type": "code",
   "execution_count": 25,
   "id": "4315b702",
   "metadata": {
    "execution": {
     "iopub.execute_input": "2023-06-20T09:12:16.428063Z",
     "iopub.status.busy": "2023-06-20T09:12:16.427495Z",
     "iopub.status.idle": "2023-06-20T09:12:16.443167Z",
     "shell.execute_reply": "2023-06-20T09:12:16.442019Z"
    },
    "papermill": {
     "duration": 0.030528,
     "end_time": "2023-06-20T09:12:16.445990",
     "exception": false,
     "start_time": "2023-06-20T09:12:16.415462",
     "status": "completed"
    },
    "tags": []
   },
   "outputs": [],
   "source": [
    "submmit.to_csv(\"/kaggle/working/submmit.csv\", index_label = [\"PassengerId\"])"
   ]
  }
 ],
 "metadata": {
  "kernelspec": {
   "display_name": "Python 3",
   "language": "python",
   "name": "python3"
  },
  "language_info": {
   "codemirror_mode": {
    "name": "ipython",
    "version": 3
   },
   "file_extension": ".py",
   "mimetype": "text/x-python",
   "name": "python",
   "nbconvert_exporter": "python",
   "pygments_lexer": "ipython3",
   "version": "3.10.10"
  },
  "papermill": {
   "default_parameters": {},
   "duration": 19.660533,
   "end_time": "2023-06-20T09:12:17.478947",
   "environment_variables": {},
   "exception": null,
   "input_path": "__notebook__.ipynb",
   "output_path": "__notebook__.ipynb",
   "parameters": {},
   "start_time": "2023-06-20T09:11:57.818414",
   "version": "2.4.0"
  }
 },
 "nbformat": 4,
 "nbformat_minor": 5
}
